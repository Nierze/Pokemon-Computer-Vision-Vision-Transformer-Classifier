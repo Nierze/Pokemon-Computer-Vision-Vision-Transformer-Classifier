{
 "cells": [
  {
   "cell_type": "code",
   "execution_count": 1,
   "id": "f334fe38-3bb0-4906-98a0-da020e313b74",
   "metadata": {
    "scrolled": true
   },
   "outputs": [
    {
     "name": "stdout",
     "output_type": "stream",
     "text": [
      "dict_keys(['classifier.1.bias', 'classifier.1.weight', 'features.0.0.weight', 'features.0.1.bias', 'features.0.1.num_batches_tracked', 'features.0.1.running_mean', 'features.0.1.running_var', 'features.0.1.weight', 'features.1.0.block.0.0.weight', 'features.1.0.block.0.1.bias', 'features.1.0.block.0.1.num_batches_tracked', 'features.1.0.block.0.1.running_mean', 'features.1.0.block.0.1.running_var', 'features.1.0.block.0.1.weight', 'features.1.0.block.1.fc1.bias', 'features.1.0.block.1.fc1.weight', 'features.1.0.block.1.fc2.bias', 'features.1.0.block.1.fc2.weight', 'features.1.0.block.2.0.weight', 'features.1.0.block.2.1.bias', 'features.1.0.block.2.1.num_batches_tracked', 'features.1.0.block.2.1.running_mean', 'features.1.0.block.2.1.running_var', 'features.1.0.block.2.1.weight', 'features.1.1.block.0.0.weight', 'features.1.1.block.0.1.bias', 'features.1.1.block.0.1.num_batches_tracked', 'features.1.1.block.0.1.running_mean', 'features.1.1.block.0.1.running_var', 'features.1.1.block.0.1.weight', 'features.1.1.block.1.fc1.bias', 'features.1.1.block.1.fc1.weight', 'features.1.1.block.1.fc2.bias', 'features.1.1.block.1.fc2.weight', 'features.1.1.block.2.0.weight', 'features.1.1.block.2.1.bias', 'features.1.1.block.2.1.num_batches_tracked', 'features.1.1.block.2.1.running_mean', 'features.1.1.block.2.1.running_var', 'features.1.1.block.2.1.weight', 'features.2.0.block.0.0.weight', 'features.2.0.block.0.1.bias', 'features.2.0.block.0.1.num_batches_tracked', 'features.2.0.block.0.1.running_mean', 'features.2.0.block.0.1.running_var', 'features.2.0.block.0.1.weight', 'features.2.0.block.1.0.weight', 'features.2.0.block.1.1.bias', 'features.2.0.block.1.1.num_batches_tracked', 'features.2.0.block.1.1.running_mean', 'features.2.0.block.1.1.running_var', 'features.2.0.block.1.1.weight', 'features.2.0.block.2.fc1.bias', 'features.2.0.block.2.fc1.weight', 'features.2.0.block.2.fc2.bias', 'features.2.0.block.2.fc2.weight', 'features.2.0.block.3.0.weight', 'features.2.0.block.3.1.bias', 'features.2.0.block.3.1.num_batches_tracked', 'features.2.0.block.3.1.running_mean', 'features.2.0.block.3.1.running_var', 'features.2.0.block.3.1.weight', 'features.2.1.block.0.0.weight', 'features.2.1.block.0.1.bias', 'features.2.1.block.0.1.num_batches_tracked', 'features.2.1.block.0.1.running_mean', 'features.2.1.block.0.1.running_var', 'features.2.1.block.0.1.weight', 'features.2.1.block.1.0.weight', 'features.2.1.block.1.1.bias', 'features.2.1.block.1.1.num_batches_tracked', 'features.2.1.block.1.1.running_mean', 'features.2.1.block.1.1.running_var', 'features.2.1.block.1.1.weight', 'features.2.1.block.2.fc1.bias', 'features.2.1.block.2.fc1.weight', 'features.2.1.block.2.fc2.bias', 'features.2.1.block.2.fc2.weight', 'features.2.1.block.3.0.weight', 'features.2.1.block.3.1.bias', 'features.2.1.block.3.1.num_batches_tracked', 'features.2.1.block.3.1.running_mean', 'features.2.1.block.3.1.running_var', 'features.2.1.block.3.1.weight', 'features.2.2.block.0.0.weight', 'features.2.2.block.0.1.bias', 'features.2.2.block.0.1.num_batches_tracked', 'features.2.2.block.0.1.running_mean', 'features.2.2.block.0.1.running_var', 'features.2.2.block.0.1.weight', 'features.2.2.block.1.0.weight', 'features.2.2.block.1.1.bias', 'features.2.2.block.1.1.num_batches_tracked', 'features.2.2.block.1.1.running_mean', 'features.2.2.block.1.1.running_var', 'features.2.2.block.1.1.weight', 'features.2.2.block.2.fc1.bias', 'features.2.2.block.2.fc1.weight', 'features.2.2.block.2.fc2.bias', 'features.2.2.block.2.fc2.weight', 'features.2.2.block.3.0.weight', 'features.2.2.block.3.1.bias', 'features.2.2.block.3.1.num_batches_tracked', 'features.2.2.block.3.1.running_mean', 'features.2.2.block.3.1.running_var', 'features.2.2.block.3.1.weight', 'features.2.3.block.0.0.weight', 'features.2.3.block.0.1.bias', 'features.2.3.block.0.1.num_batches_tracked', 'features.2.3.block.0.1.running_mean', 'features.2.3.block.0.1.running_var', 'features.2.3.block.0.1.weight', 'features.2.3.block.1.0.weight', 'features.2.3.block.1.1.bias', 'features.2.3.block.1.1.num_batches_tracked', 'features.2.3.block.1.1.running_mean', 'features.2.3.block.1.1.running_var', 'features.2.3.block.1.1.weight', 'features.2.3.block.2.fc1.bias', 'features.2.3.block.2.fc1.weight', 'features.2.3.block.2.fc2.bias', 'features.2.3.block.2.fc2.weight', 'features.2.3.block.3.0.weight', 'features.2.3.block.3.1.bias', 'features.2.3.block.3.1.num_batches_tracked', 'features.2.3.block.3.1.running_mean', 'features.2.3.block.3.1.running_var', 'features.2.3.block.3.1.weight', 'features.3.0.block.0.0.weight', 'features.3.0.block.0.1.bias', 'features.3.0.block.0.1.num_batches_tracked', 'features.3.0.block.0.1.running_mean', 'features.3.0.block.0.1.running_var', 'features.3.0.block.0.1.weight', 'features.3.0.block.1.0.weight', 'features.3.0.block.1.1.bias', 'features.3.0.block.1.1.num_batches_tracked', 'features.3.0.block.1.1.running_mean', 'features.3.0.block.1.1.running_var', 'features.3.0.block.1.1.weight', 'features.3.0.block.2.fc1.bias', 'features.3.0.block.2.fc1.weight', 'features.3.0.block.2.fc2.bias', 'features.3.0.block.2.fc2.weight', 'features.3.0.block.3.0.weight', 'features.3.0.block.3.1.bias', 'features.3.0.block.3.1.num_batches_tracked', 'features.3.0.block.3.1.running_mean', 'features.3.0.block.3.1.running_var', 'features.3.0.block.3.1.weight', 'features.3.1.block.0.0.weight', 'features.3.1.block.0.1.bias', 'features.3.1.block.0.1.num_batches_tracked', 'features.3.1.block.0.1.running_mean', 'features.3.1.block.0.1.running_var', 'features.3.1.block.0.1.weight', 'features.3.1.block.1.0.weight', 'features.3.1.block.1.1.bias', 'features.3.1.block.1.1.num_batches_tracked', 'features.3.1.block.1.1.running_mean', 'features.3.1.block.1.1.running_var', 'features.3.1.block.1.1.weight', 'features.3.1.block.2.fc1.bias', 'features.3.1.block.2.fc1.weight', 'features.3.1.block.2.fc2.bias', 'features.3.1.block.2.fc2.weight', 'features.3.1.block.3.0.weight', 'features.3.1.block.3.1.bias', 'features.3.1.block.3.1.num_batches_tracked', 'features.3.1.block.3.1.running_mean', 'features.3.1.block.3.1.running_var', 'features.3.1.block.3.1.weight', 'features.3.2.block.0.0.weight', 'features.3.2.block.0.1.bias', 'features.3.2.block.0.1.num_batches_tracked', 'features.3.2.block.0.1.running_mean', 'features.3.2.block.0.1.running_var', 'features.3.2.block.0.1.weight', 'features.3.2.block.1.0.weight', 'features.3.2.block.1.1.bias', 'features.3.2.block.1.1.num_batches_tracked', 'features.3.2.block.1.1.running_mean', 'features.3.2.block.1.1.running_var', 'features.3.2.block.1.1.weight', 'features.3.2.block.2.fc1.bias', 'features.3.2.block.2.fc1.weight', 'features.3.2.block.2.fc2.bias', 'features.3.2.block.2.fc2.weight', 'features.3.2.block.3.0.weight', 'features.3.2.block.3.1.bias', 'features.3.2.block.3.1.num_batches_tracked', 'features.3.2.block.3.1.running_mean', 'features.3.2.block.3.1.running_var', 'features.3.2.block.3.1.weight', 'features.3.3.block.0.0.weight', 'features.3.3.block.0.1.bias', 'features.3.3.block.0.1.num_batches_tracked', 'features.3.3.block.0.1.running_mean', 'features.3.3.block.0.1.running_var', 'features.3.3.block.0.1.weight', 'features.3.3.block.1.0.weight', 'features.3.3.block.1.1.bias', 'features.3.3.block.1.1.num_batches_tracked', 'features.3.3.block.1.1.running_mean', 'features.3.3.block.1.1.running_var', 'features.3.3.block.1.1.weight', 'features.3.3.block.2.fc1.bias', 'features.3.3.block.2.fc1.weight', 'features.3.3.block.2.fc2.bias', 'features.3.3.block.2.fc2.weight', 'features.3.3.block.3.0.weight', 'features.3.3.block.3.1.bias', 'features.3.3.block.3.1.num_batches_tracked', 'features.3.3.block.3.1.running_mean', 'features.3.3.block.3.1.running_var', 'features.3.3.block.3.1.weight', 'features.4.0.block.0.0.weight', 'features.4.0.block.0.1.bias', 'features.4.0.block.0.1.num_batches_tracked', 'features.4.0.block.0.1.running_mean', 'features.4.0.block.0.1.running_var', 'features.4.0.block.0.1.weight', 'features.4.0.block.1.0.weight', 'features.4.0.block.1.1.bias', 'features.4.0.block.1.1.num_batches_tracked', 'features.4.0.block.1.1.running_mean', 'features.4.0.block.1.1.running_var', 'features.4.0.block.1.1.weight', 'features.4.0.block.2.fc1.bias', 'features.4.0.block.2.fc1.weight', 'features.4.0.block.2.fc2.bias', 'features.4.0.block.2.fc2.weight', 'features.4.0.block.3.0.weight', 'features.4.0.block.3.1.bias', 'features.4.0.block.3.1.num_batches_tracked', 'features.4.0.block.3.1.running_mean', 'features.4.0.block.3.1.running_var', 'features.4.0.block.3.1.weight', 'features.4.1.block.0.0.weight', 'features.4.1.block.0.1.bias', 'features.4.1.block.0.1.num_batches_tracked', 'features.4.1.block.0.1.running_mean', 'features.4.1.block.0.1.running_var', 'features.4.1.block.0.1.weight', 'features.4.1.block.1.0.weight', 'features.4.1.block.1.1.bias', 'features.4.1.block.1.1.num_batches_tracked', 'features.4.1.block.1.1.running_mean', 'features.4.1.block.1.1.running_var', 'features.4.1.block.1.1.weight', 'features.4.1.block.2.fc1.bias', 'features.4.1.block.2.fc1.weight', 'features.4.1.block.2.fc2.bias', 'features.4.1.block.2.fc2.weight', 'features.4.1.block.3.0.weight', 'features.4.1.block.3.1.bias', 'features.4.1.block.3.1.num_batches_tracked', 'features.4.1.block.3.1.running_mean', 'features.4.1.block.3.1.running_var', 'features.4.1.block.3.1.weight', 'features.4.2.block.0.0.weight', 'features.4.2.block.0.1.bias', 'features.4.2.block.0.1.num_batches_tracked', 'features.4.2.block.0.1.running_mean', 'features.4.2.block.0.1.running_var', 'features.4.2.block.0.1.weight', 'features.4.2.block.1.0.weight', 'features.4.2.block.1.1.bias', 'features.4.2.block.1.1.num_batches_tracked', 'features.4.2.block.1.1.running_mean', 'features.4.2.block.1.1.running_var', 'features.4.2.block.1.1.weight', 'features.4.2.block.2.fc1.bias', 'features.4.2.block.2.fc1.weight', 'features.4.2.block.2.fc2.bias', 'features.4.2.block.2.fc2.weight', 'features.4.2.block.3.0.weight', 'features.4.2.block.3.1.bias', 'features.4.2.block.3.1.num_batches_tracked', 'features.4.2.block.3.1.running_mean', 'features.4.2.block.3.1.running_var', 'features.4.2.block.3.1.weight', 'features.4.3.block.0.0.weight', 'features.4.3.block.0.1.bias', 'features.4.3.block.0.1.num_batches_tracked', 'features.4.3.block.0.1.running_mean', 'features.4.3.block.0.1.running_var', 'features.4.3.block.0.1.weight', 'features.4.3.block.1.0.weight', 'features.4.3.block.1.1.bias', 'features.4.3.block.1.1.num_batches_tracked', 'features.4.3.block.1.1.running_mean', 'features.4.3.block.1.1.running_var', 'features.4.3.block.1.1.weight', 'features.4.3.block.2.fc1.bias', 'features.4.3.block.2.fc1.weight', 'features.4.3.block.2.fc2.bias', 'features.4.3.block.2.fc2.weight', 'features.4.3.block.3.0.weight', 'features.4.3.block.3.1.bias', 'features.4.3.block.3.1.num_batches_tracked', 'features.4.3.block.3.1.running_mean', 'features.4.3.block.3.1.running_var', 'features.4.3.block.3.1.weight', 'features.4.4.block.0.0.weight', 'features.4.4.block.0.1.bias', 'features.4.4.block.0.1.num_batches_tracked', 'features.4.4.block.0.1.running_mean', 'features.4.4.block.0.1.running_var', 'features.4.4.block.0.1.weight', 'features.4.4.block.1.0.weight', 'features.4.4.block.1.1.bias', 'features.4.4.block.1.1.num_batches_tracked', 'features.4.4.block.1.1.running_mean', 'features.4.4.block.1.1.running_var', 'features.4.4.block.1.1.weight', 'features.4.4.block.2.fc1.bias', 'features.4.4.block.2.fc1.weight', 'features.4.4.block.2.fc2.bias', 'features.4.4.block.2.fc2.weight', 'features.4.4.block.3.0.weight', 'features.4.4.block.3.1.bias', 'features.4.4.block.3.1.num_batches_tracked', 'features.4.4.block.3.1.running_mean', 'features.4.4.block.3.1.running_var', 'features.4.4.block.3.1.weight', 'features.4.5.block.0.0.weight', 'features.4.5.block.0.1.bias', 'features.4.5.block.0.1.num_batches_tracked', 'features.4.5.block.0.1.running_mean', 'features.4.5.block.0.1.running_var', 'features.4.5.block.0.1.weight', 'features.4.5.block.1.0.weight', 'features.4.5.block.1.1.bias', 'features.4.5.block.1.1.num_batches_tracked', 'features.4.5.block.1.1.running_mean', 'features.4.5.block.1.1.running_var', 'features.4.5.block.1.1.weight', 'features.4.5.block.2.fc1.bias', 'features.4.5.block.2.fc1.weight', 'features.4.5.block.2.fc2.bias', 'features.4.5.block.2.fc2.weight', 'features.4.5.block.3.0.weight', 'features.4.5.block.3.1.bias', 'features.4.5.block.3.1.num_batches_tracked', 'features.4.5.block.3.1.running_mean', 'features.4.5.block.3.1.running_var', 'features.4.5.block.3.1.weight', 'features.5.0.block.0.0.weight', 'features.5.0.block.0.1.bias', 'features.5.0.block.0.1.num_batches_tracked', 'features.5.0.block.0.1.running_mean', 'features.5.0.block.0.1.running_var', 'features.5.0.block.0.1.weight', 'features.5.0.block.1.0.weight', 'features.5.0.block.1.1.bias', 'features.5.0.block.1.1.num_batches_tracked', 'features.5.0.block.1.1.running_mean', 'features.5.0.block.1.1.running_var', 'features.5.0.block.1.1.weight', 'features.5.0.block.2.fc1.bias', 'features.5.0.block.2.fc1.weight', 'features.5.0.block.2.fc2.bias', 'features.5.0.block.2.fc2.weight', 'features.5.0.block.3.0.weight', 'features.5.0.block.3.1.bias', 'features.5.0.block.3.1.num_batches_tracked', 'features.5.0.block.3.1.running_mean', 'features.5.0.block.3.1.running_var', 'features.5.0.block.3.1.weight', 'features.5.1.block.0.0.weight', 'features.5.1.block.0.1.bias', 'features.5.1.block.0.1.num_batches_tracked', 'features.5.1.block.0.1.running_mean', 'features.5.1.block.0.1.running_var', 'features.5.1.block.0.1.weight', 'features.5.1.block.1.0.weight', 'features.5.1.block.1.1.bias', 'features.5.1.block.1.1.num_batches_tracked', 'features.5.1.block.1.1.running_mean', 'features.5.1.block.1.1.running_var', 'features.5.1.block.1.1.weight', 'features.5.1.block.2.fc1.bias', 'features.5.1.block.2.fc1.weight', 'features.5.1.block.2.fc2.bias', 'features.5.1.block.2.fc2.weight', 'features.5.1.block.3.0.weight', 'features.5.1.block.3.1.bias', 'features.5.1.block.3.1.num_batches_tracked', 'features.5.1.block.3.1.running_mean', 'features.5.1.block.3.1.running_var', 'features.5.1.block.3.1.weight', 'features.5.2.block.0.0.weight', 'features.5.2.block.0.1.bias', 'features.5.2.block.0.1.num_batches_tracked', 'features.5.2.block.0.1.running_mean', 'features.5.2.block.0.1.running_var', 'features.5.2.block.0.1.weight', 'features.5.2.block.1.0.weight', 'features.5.2.block.1.1.bias', 'features.5.2.block.1.1.num_batches_tracked', 'features.5.2.block.1.1.running_mean', 'features.5.2.block.1.1.running_var', 'features.5.2.block.1.1.weight', 'features.5.2.block.2.fc1.bias', 'features.5.2.block.2.fc1.weight', 'features.5.2.block.2.fc2.bias', 'features.5.2.block.2.fc2.weight', 'features.5.2.block.3.0.weight', 'features.5.2.block.3.1.bias', 'features.5.2.block.3.1.num_batches_tracked', 'features.5.2.block.3.1.running_mean', 'features.5.2.block.3.1.running_var', 'features.5.2.block.3.1.weight', 'features.5.3.block.0.0.weight', 'features.5.3.block.0.1.bias', 'features.5.3.block.0.1.num_batches_tracked', 'features.5.3.block.0.1.running_mean', 'features.5.3.block.0.1.running_var', 'features.5.3.block.0.1.weight', 'features.5.3.block.1.0.weight', 'features.5.3.block.1.1.bias', 'features.5.3.block.1.1.num_batches_tracked', 'features.5.3.block.1.1.running_mean', 'features.5.3.block.1.1.running_var', 'features.5.3.block.1.1.weight', 'features.5.3.block.2.fc1.bias', 'features.5.3.block.2.fc1.weight', 'features.5.3.block.2.fc2.bias', 'features.5.3.block.2.fc2.weight', 'features.5.3.block.3.0.weight', 'features.5.3.block.3.1.bias', 'features.5.3.block.3.1.num_batches_tracked', 'features.5.3.block.3.1.running_mean', 'features.5.3.block.3.1.running_var', 'features.5.3.block.3.1.weight', 'features.5.4.block.0.0.weight', 'features.5.4.block.0.1.bias', 'features.5.4.block.0.1.num_batches_tracked', 'features.5.4.block.0.1.running_mean', 'features.5.4.block.0.1.running_var', 'features.5.4.block.0.1.weight', 'features.5.4.block.1.0.weight', 'features.5.4.block.1.1.bias', 'features.5.4.block.1.1.num_batches_tracked', 'features.5.4.block.1.1.running_mean', 'features.5.4.block.1.1.running_var', 'features.5.4.block.1.1.weight', 'features.5.4.block.2.fc1.bias', 'features.5.4.block.2.fc1.weight', 'features.5.4.block.2.fc2.bias', 'features.5.4.block.2.fc2.weight', 'features.5.4.block.3.0.weight', 'features.5.4.block.3.1.bias', 'features.5.4.block.3.1.num_batches_tracked', 'features.5.4.block.3.1.running_mean', 'features.5.4.block.3.1.running_var', 'features.5.4.block.3.1.weight', 'features.5.5.block.0.0.weight', 'features.5.5.block.0.1.bias', 'features.5.5.block.0.1.num_batches_tracked', 'features.5.5.block.0.1.running_mean', 'features.5.5.block.0.1.running_var', 'features.5.5.block.0.1.weight', 'features.5.5.block.1.0.weight', 'features.5.5.block.1.1.bias', 'features.5.5.block.1.1.num_batches_tracked', 'features.5.5.block.1.1.running_mean', 'features.5.5.block.1.1.running_var', 'features.5.5.block.1.1.weight', 'features.5.5.block.2.fc1.bias', 'features.5.5.block.2.fc1.weight', 'features.5.5.block.2.fc2.bias', 'features.5.5.block.2.fc2.weight', 'features.5.5.block.3.0.weight', 'features.5.5.block.3.1.bias', 'features.5.5.block.3.1.num_batches_tracked', 'features.5.5.block.3.1.running_mean', 'features.5.5.block.3.1.running_var', 'features.5.5.block.3.1.weight', 'features.6.0.block.0.0.weight', 'features.6.0.block.0.1.bias', 'features.6.0.block.0.1.num_batches_tracked', 'features.6.0.block.0.1.running_mean', 'features.6.0.block.0.1.running_var', 'features.6.0.block.0.1.weight', 'features.6.0.block.1.0.weight', 'features.6.0.block.1.1.bias', 'features.6.0.block.1.1.num_batches_tracked', 'features.6.0.block.1.1.running_mean', 'features.6.0.block.1.1.running_var', 'features.6.0.block.1.1.weight', 'features.6.0.block.2.fc1.bias', 'features.6.0.block.2.fc1.weight', 'features.6.0.block.2.fc2.bias', 'features.6.0.block.2.fc2.weight', 'features.6.0.block.3.0.weight', 'features.6.0.block.3.1.bias', 'features.6.0.block.3.1.num_batches_tracked', 'features.6.0.block.3.1.running_mean', 'features.6.0.block.3.1.running_var', 'features.6.0.block.3.1.weight', 'features.6.1.block.0.0.weight', 'features.6.1.block.0.1.bias', 'features.6.1.block.0.1.num_batches_tracked', 'features.6.1.block.0.1.running_mean', 'features.6.1.block.0.1.running_var', 'features.6.1.block.0.1.weight', 'features.6.1.block.1.0.weight', 'features.6.1.block.1.1.bias', 'features.6.1.block.1.1.num_batches_tracked', 'features.6.1.block.1.1.running_mean', 'features.6.1.block.1.1.running_var', 'features.6.1.block.1.1.weight', 'features.6.1.block.2.fc1.bias', 'features.6.1.block.2.fc1.weight', 'features.6.1.block.2.fc2.bias', 'features.6.1.block.2.fc2.weight', 'features.6.1.block.3.0.weight', 'features.6.1.block.3.1.bias', 'features.6.1.block.3.1.num_batches_tracked', 'features.6.1.block.3.1.running_mean', 'features.6.1.block.3.1.running_var', 'features.6.1.block.3.1.weight', 'features.6.2.block.0.0.weight', 'features.6.2.block.0.1.bias', 'features.6.2.block.0.1.num_batches_tracked', 'features.6.2.block.0.1.running_mean', 'features.6.2.block.0.1.running_var', 'features.6.2.block.0.1.weight', 'features.6.2.block.1.0.weight', 'features.6.2.block.1.1.bias', 'features.6.2.block.1.1.num_batches_tracked', 'features.6.2.block.1.1.running_mean', 'features.6.2.block.1.1.running_var', 'features.6.2.block.1.1.weight', 'features.6.2.block.2.fc1.bias', 'features.6.2.block.2.fc1.weight', 'features.6.2.block.2.fc2.bias', 'features.6.2.block.2.fc2.weight', 'features.6.2.block.3.0.weight', 'features.6.2.block.3.1.bias', 'features.6.2.block.3.1.num_batches_tracked', 'features.6.2.block.3.1.running_mean', 'features.6.2.block.3.1.running_var', 'features.6.2.block.3.1.weight', 'features.6.3.block.0.0.weight', 'features.6.3.block.0.1.bias', 'features.6.3.block.0.1.num_batches_tracked', 'features.6.3.block.0.1.running_mean', 'features.6.3.block.0.1.running_var', 'features.6.3.block.0.1.weight', 'features.6.3.block.1.0.weight', 'features.6.3.block.1.1.bias', 'features.6.3.block.1.1.num_batches_tracked', 'features.6.3.block.1.1.running_mean', 'features.6.3.block.1.1.running_var', 'features.6.3.block.1.1.weight', 'features.6.3.block.2.fc1.bias', 'features.6.3.block.2.fc1.weight', 'features.6.3.block.2.fc2.bias', 'features.6.3.block.2.fc2.weight', 'features.6.3.block.3.0.weight', 'features.6.3.block.3.1.bias', 'features.6.3.block.3.1.num_batches_tracked', 'features.6.3.block.3.1.running_mean', 'features.6.3.block.3.1.running_var', 'features.6.3.block.3.1.weight', 'features.6.4.block.0.0.weight', 'features.6.4.block.0.1.bias', 'features.6.4.block.0.1.num_batches_tracked', 'features.6.4.block.0.1.running_mean', 'features.6.4.block.0.1.running_var', 'features.6.4.block.0.1.weight', 'features.6.4.block.1.0.weight', 'features.6.4.block.1.1.bias', 'features.6.4.block.1.1.num_batches_tracked', 'features.6.4.block.1.1.running_mean', 'features.6.4.block.1.1.running_var', 'features.6.4.block.1.1.weight', 'features.6.4.block.2.fc1.bias', 'features.6.4.block.2.fc1.weight', 'features.6.4.block.2.fc2.bias', 'features.6.4.block.2.fc2.weight', 'features.6.4.block.3.0.weight', 'features.6.4.block.3.1.bias', 'features.6.4.block.3.1.num_batches_tracked', 'features.6.4.block.3.1.running_mean', 'features.6.4.block.3.1.running_var', 'features.6.4.block.3.1.weight', 'features.6.5.block.0.0.weight', 'features.6.5.block.0.1.bias', 'features.6.5.block.0.1.num_batches_tracked', 'features.6.5.block.0.1.running_mean', 'features.6.5.block.0.1.running_var', 'features.6.5.block.0.1.weight', 'features.6.5.block.1.0.weight', 'features.6.5.block.1.1.bias', 'features.6.5.block.1.1.num_batches_tracked', 'features.6.5.block.1.1.running_mean', 'features.6.5.block.1.1.running_var', 'features.6.5.block.1.1.weight', 'features.6.5.block.2.fc1.bias', 'features.6.5.block.2.fc1.weight', 'features.6.5.block.2.fc2.bias', 'features.6.5.block.2.fc2.weight', 'features.6.5.block.3.0.weight', 'features.6.5.block.3.1.bias', 'features.6.5.block.3.1.num_batches_tracked', 'features.6.5.block.3.1.running_mean', 'features.6.5.block.3.1.running_var', 'features.6.5.block.3.1.weight', 'features.6.6.block.0.0.weight', 'features.6.6.block.0.1.bias', 'features.6.6.block.0.1.num_batches_tracked', 'features.6.6.block.0.1.running_mean', 'features.6.6.block.0.1.running_var', 'features.6.6.block.0.1.weight', 'features.6.6.block.1.0.weight', 'features.6.6.block.1.1.bias', 'features.6.6.block.1.1.num_batches_tracked', 'features.6.6.block.1.1.running_mean', 'features.6.6.block.1.1.running_var', 'features.6.6.block.1.1.weight', 'features.6.6.block.2.fc1.bias', 'features.6.6.block.2.fc1.weight', 'features.6.6.block.2.fc2.bias', 'features.6.6.block.2.fc2.weight', 'features.6.6.block.3.0.weight', 'features.6.6.block.3.1.bias', 'features.6.6.block.3.1.num_batches_tracked', 'features.6.6.block.3.1.running_mean', 'features.6.6.block.3.1.running_var', 'features.6.6.block.3.1.weight', 'features.6.7.block.0.0.weight', 'features.6.7.block.0.1.bias', 'features.6.7.block.0.1.num_batches_tracked', 'features.6.7.block.0.1.running_mean', 'features.6.7.block.0.1.running_var', 'features.6.7.block.0.1.weight', 'features.6.7.block.1.0.weight', 'features.6.7.block.1.1.bias', 'features.6.7.block.1.1.num_batches_tracked', 'features.6.7.block.1.1.running_mean', 'features.6.7.block.1.1.running_var', 'features.6.7.block.1.1.weight', 'features.6.7.block.2.fc1.bias', 'features.6.7.block.2.fc1.weight', 'features.6.7.block.2.fc2.bias', 'features.6.7.block.2.fc2.weight', 'features.6.7.block.3.0.weight', 'features.6.7.block.3.1.bias', 'features.6.7.block.3.1.num_batches_tracked', 'features.6.7.block.3.1.running_mean', 'features.6.7.block.3.1.running_var', 'features.6.7.block.3.1.weight', 'features.7.0.block.0.0.weight', 'features.7.0.block.0.1.bias', 'features.7.0.block.0.1.num_batches_tracked', 'features.7.0.block.0.1.running_mean', 'features.7.0.block.0.1.running_var', 'features.7.0.block.0.1.weight', 'features.7.0.block.1.0.weight', 'features.7.0.block.1.1.bias', 'features.7.0.block.1.1.num_batches_tracked', 'features.7.0.block.1.1.running_mean', 'features.7.0.block.1.1.running_var', 'features.7.0.block.1.1.weight', 'features.7.0.block.2.fc1.bias', 'features.7.0.block.2.fc1.weight', 'features.7.0.block.2.fc2.bias', 'features.7.0.block.2.fc2.weight', 'features.7.0.block.3.0.weight', 'features.7.0.block.3.1.bias', 'features.7.0.block.3.1.num_batches_tracked', 'features.7.0.block.3.1.running_mean', 'features.7.0.block.3.1.running_var', 'features.7.0.block.3.1.weight', 'features.7.1.block.0.0.weight', 'features.7.1.block.0.1.bias', 'features.7.1.block.0.1.num_batches_tracked', 'features.7.1.block.0.1.running_mean', 'features.7.1.block.0.1.running_var', 'features.7.1.block.0.1.weight', 'features.7.1.block.1.0.weight', 'features.7.1.block.1.1.bias', 'features.7.1.block.1.1.num_batches_tracked', 'features.7.1.block.1.1.running_mean', 'features.7.1.block.1.1.running_var', 'features.7.1.block.1.1.weight', 'features.7.1.block.2.fc1.bias', 'features.7.1.block.2.fc1.weight', 'features.7.1.block.2.fc2.bias', 'features.7.1.block.2.fc2.weight', 'features.7.1.block.3.0.weight', 'features.7.1.block.3.1.bias', 'features.7.1.block.3.1.num_batches_tracked', 'features.7.1.block.3.1.running_mean', 'features.7.1.block.3.1.running_var', 'features.7.1.block.3.1.weight', 'features.8.0.weight', 'features.8.1.bias', 'features.8.1.num_batches_tracked', 'features.8.1.running_mean', 'features.8.1.running_var', 'features.8.1.weight'])\n",
      "Model loaded successfully!\n"
     ]
    }
   ],
   "source": [
    "import torch\n",
    "from safetensors.torch import load_file\n",
    "\n",
    "# Load the safetensor file\n",
    "weights = load_file(\"../Models/Pokemon-efficientnet_b4-IMAGENET1K_V1-v1.safetensors\")\n",
    "\n",
    "# Check available keys\n",
    "print(weights.keys())\n",
    "\n",
    "# Example: Load weights into a model (assuming EfficientNet-B4)\n",
    "from torchvision.models import efficientnet_b4\n",
    "\n",
    "model = efficientnet_b4(weights=None)  # Initialize model without weights\n",
    "\n",
    "# Load the weights (modify as needed)\n",
    "model.load_state_dict(weights, strict=False)\n",
    "\n",
    "# Move to GPU if available\n",
    "device = torch.device(\"cuda\" if torch.cuda.is_available() else \"cpu\")\n",
    "model.to(device)\n",
    "\n",
    "print(\"Model loaded successfully!\")\n"
   ]
  },
  {
   "cell_type": "code",
   "execution_count": 2,
   "id": "50e430ac-b92f-46d9-b0c4-f85efb4aaa70",
   "metadata": {},
   "outputs": [],
   "source": [
    "from torchinfo import summary"
   ]
  },
  {
   "cell_type": "code",
   "execution_count": 3,
   "id": "9c284633-3dd8-44c0-8850-868b4d004b5f",
   "metadata": {
    "scrolled": true
   },
   "outputs": [
    {
     "data": {
      "text/plain": [
       "=========================================================================================================\n",
       "Layer (type:depth-idx)                                  Output Shape              Param #\n",
       "=========================================================================================================\n",
       "EfficientNet                                            [1, 1000]                 --\n",
       "├─Sequential: 1-1                                       [1, 1792, 7, 7]           --\n",
       "│    └─Conv2dNormActivation: 2-1                        [1, 48, 112, 112]         --\n",
       "│    │    └─Conv2d: 3-1                                 [1, 48, 112, 112]         1,296\n",
       "│    │    └─BatchNorm2d: 3-2                            [1, 48, 112, 112]         96\n",
       "│    │    └─SiLU: 3-3                                   [1, 48, 112, 112]         --\n",
       "│    └─Sequential: 2-2                                  [1, 24, 112, 112]         --\n",
       "│    │    └─MBConv: 3-4                                 [1, 24, 112, 112]         2,940\n",
       "│    │    └─MBConv: 3-5                                 [1, 24, 112, 112]         1,206\n",
       "│    └─Sequential: 2-3                                  [1, 32, 56, 56]           --\n",
       "│    │    └─MBConv: 3-6                                 [1, 32, 56, 56]           11,878\n",
       "│    │    └─MBConv: 3-7                                 [1, 32, 56, 56]           18,120\n",
       "│    │    └─MBConv: 3-8                                 [1, 32, 56, 56]           18,120\n",
       "│    │    └─MBConv: 3-9                                 [1, 32, 56, 56]           18,120\n",
       "│    └─Sequential: 2-4                                  [1, 56, 28, 28]           --\n",
       "│    │    └─MBConv: 3-10                                [1, 56, 28, 28]           25,848\n",
       "│    │    └─MBConv: 3-11                                [1, 56, 28, 28]           57,246\n",
       "│    │    └─MBConv: 3-12                                [1, 56, 28, 28]           57,246\n",
       "│    │    └─MBConv: 3-13                                [1, 56, 28, 28]           57,246\n",
       "│    └─Sequential: 2-5                                  [1, 112, 14, 14]          --\n",
       "│    │    └─MBConv: 3-14                                [1, 112, 14, 14]          70,798\n",
       "│    │    └─MBConv: 3-15                                [1, 112, 14, 14]          197,820\n",
       "│    │    └─MBConv: 3-16                                [1, 112, 14, 14]          197,820\n",
       "│    │    └─MBConv: 3-17                                [1, 112, 14, 14]          197,820\n",
       "│    │    └─MBConv: 3-18                                [1, 112, 14, 14]          197,820\n",
       "│    │    └─MBConv: 3-19                                [1, 112, 14, 14]          197,820\n",
       "│    └─Sequential: 2-6                                  [1, 160, 14, 14]          --\n",
       "│    │    └─MBConv: 3-20                                [1, 160, 14, 14]          240,924\n",
       "│    │    └─MBConv: 3-21                                [1, 160, 14, 14]          413,160\n",
       "│    │    └─MBConv: 3-22                                [1, 160, 14, 14]          413,160\n",
       "│    │    └─MBConv: 3-23                                [1, 160, 14, 14]          413,160\n",
       "│    │    └─MBConv: 3-24                                [1, 160, 14, 14]          413,160\n",
       "│    │    └─MBConv: 3-25                                [1, 160, 14, 14]          413,160\n",
       "│    └─Sequential: 2-7                                  [1, 272, 7, 7]            --\n",
       "│    │    └─MBConv: 3-26                                [1, 272, 7, 7]            520,904\n",
       "│    │    └─MBConv: 3-27                                [1, 272, 7, 7]            1,159,332\n",
       "│    │    └─MBConv: 3-28                                [1, 272, 7, 7]            1,159,332\n",
       "│    │    └─MBConv: 3-29                                [1, 272, 7, 7]            1,159,332\n",
       "│    │    └─MBConv: 3-30                                [1, 272, 7, 7]            1,159,332\n",
       "│    │    └─MBConv: 3-31                                [1, 272, 7, 7]            1,159,332\n",
       "│    │    └─MBConv: 3-32                                [1, 272, 7, 7]            1,159,332\n",
       "│    │    └─MBConv: 3-33                                [1, 272, 7, 7]            1,159,332\n",
       "│    └─Sequential: 2-8                                  [1, 448, 7, 7]            --\n",
       "│    │    └─MBConv: 3-34                                [1, 448, 7, 7]            1,420,804\n",
       "│    │    └─MBConv: 3-35                                [1, 448, 7, 7]            3,049,200\n",
       "│    └─Conv2dNormActivation: 2-9                        [1, 1792, 7, 7]           --\n",
       "│    │    └─Conv2d: 3-36                                [1, 1792, 7, 7]           802,816\n",
       "│    │    └─BatchNorm2d: 3-37                           [1, 1792, 7, 7]           3,584\n",
       "│    │    └─SiLU: 3-38                                  [1, 1792, 7, 7]           --\n",
       "├─AdaptiveAvgPool2d: 1-2                                [1, 1792, 1, 1]           --\n",
       "├─Sequential: 1-3                                       [1, 1000]                 --\n",
       "│    └─Dropout: 2-10                                    [1, 1792]                 --\n",
       "│    └─Linear: 2-11                                     [1, 1000]                 1,793,000\n",
       "=========================================================================================================\n",
       "Total params: 19,341,616\n",
       "Trainable params: 19,341,616\n",
       "Non-trainable params: 0\n",
       "Total mult-adds (G): 1.50\n",
       "=========================================================================================================\n",
       "Input size (MB): 0.60\n",
       "Forward/backward pass size (MB): 272.50\n",
       "Params size (MB): 77.37\n",
       "Estimated Total Size (MB): 350.46\n",
       "========================================================================================================="
      ]
     },
     "execution_count": 3,
     "metadata": {},
     "output_type": "execute_result"
    }
   ],
   "source": [
    "summary(model, input_size=(1, 3, 224, 224))"
   ]
  },
  {
   "cell_type": "code",
   "execution_count": 5,
   "id": "5bc32034-a44e-4abd-a988-a3dc16730f44",
   "metadata": {},
   "outputs": [
    {
     "name": "stdout",
     "output_type": "stream",
     "text": [
      "scikit-learn is not installed. Installing...\n",
      "scikit-learn has been installed.\n"
     ]
    }
   ],
   "source": [
    "import sys\n",
    "import os\n",
    "\n",
    "module_dir = \"../Utilities/Python Version\"\n",
    "sys.path.append(module_dir)\n",
    "\n",
    "import eval_utils_vision\n"
   ]
  },
  {
   "cell_type": "code",
   "execution_count": null,
   "id": "c60b55dc-d9eb-4a66-aed8-7a65a3edb6af",
   "metadata": {
    "editable": true,
    "slideshow": {
     "slide_type": ""
    },
    "tags": []
   },
   "outputs": [],
   "source": [
    "eval_utils_vision.show_confusion_matrix(\n",
    "    model,\n",
    "    \n",
    ")"
   ]
  }
 ],
 "metadata": {
  "kernelspec": {
   "display_name": "Python 3 (ipykernel)",
   "language": "python",
   "name": "python3"
  },
  "language_info": {
   "codemirror_mode": {
    "name": "ipython",
    "version": 3
   },
   "file_extension": ".py",
   "mimetype": "text/x-python",
   "name": "python",
   "nbconvert_exporter": "python",
   "pygments_lexer": "ipython3",
   "version": "3.10.10"
  }
 },
 "nbformat": 4,
 "nbformat_minor": 5
}
