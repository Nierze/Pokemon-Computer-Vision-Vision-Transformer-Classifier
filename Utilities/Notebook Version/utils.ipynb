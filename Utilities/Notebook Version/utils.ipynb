{
 "cells": [
  {
   "cell_type": "markdown",
   "metadata": {
    "id": "fw9BgR7nzAlB"
   },
   "source": [
    "# Computer Vision Miscellaneous Utilities Module 1.0.1\n",
    "#### Made by: Melchor Filippe S. Bulanon\n",
    "#### Last Updated: 02/07/2025\n",
    "\n",
    "This module contains miscellaneous functions that could be used for computer vision models created in pytorch."
   ]
  },
  {
   "cell_type": "markdown",
   "metadata": {
    "id": "h1cQIJh2zS3Q"
   },
   "source": [
    "## Import necessary modules"
   ]
  },
  {
   "cell_type": "code",
   "execution_count": 6,
   "metadata": {
    "executionInfo": {
     "elapsed": 682,
     "status": "ok",
     "timestamp": 1738488902081,
     "user": {
      "displayName": "Melchor Filippe Bulanon",
      "userId": "02016170802866976542"
     },
     "user_tz": -480
    },
    "id": "Ea1-31u2y68I"
   },
   "outputs": [],
   "source": [
    "import torch\n",
    "from torch.utils.data import Dataset\n",
    "import matplotlib.pyplot as plt\n",
    "import numpy as np\n",
    "from typing import Optional, Tuple\n",
    "import random\n",
    "import os\n",
    "import importlib.util\n",
    "import subprocess\n",
    "import sys"
   ]
  },
  {
   "cell_type": "code",
   "execution_count": 7,
   "metadata": {
    "colab": {
     "base_uri": "https://localhost:8080/"
    },
    "executionInfo": {
     "elapsed": 1238,
     "status": "ok",
     "timestamp": 1738488903824,
     "user": {
      "displayName": "Melchor Filippe Bulanon",
      "userId": "02016170802866976542"
     },
     "user_tz": -480
    },
    "id": "I_hLYAQ5pTfV",
    "outputId": "aac1472b-c931-4ede-9c8a-75a0fe6940c4"
   },
   "outputs": [
    {
     "name": "stdout",
     "output_type": "stream",
     "text": [
      "anytree is already installed.\n"
     ]
    }
   ],
   "source": [
    "if importlib.util.find_spec('anytree') is None:\n",
    "    print(f\"{'anytree'} is not installed. Installing...\")\n",
    "    subprocess.check_call([sys.executable, \"-m\", \"pip\", \"install\", 'anytree'])\n",
    "    print(f\"{'anytree'} has been installed.\")\n",
    "else:\n",
    "    print(f\"{'anytree'} is already installed.\")\n",
    "\n",
    "from anytree import Node, RenderTree"
   ]
  },
  {
   "cell_type": "markdown",
   "metadata": {
    "id": "ewRzVc43zW6f"
   },
   "source": [
    "## Visualize Random Samples"
   ]
  },
  {
   "cell_type": "code",
   "execution_count": 8,
   "metadata": {
    "executionInfo": {
     "elapsed": 355,
     "status": "ok",
     "timestamp": 1738488923256,
     "user": {
      "displayName": "Melchor Filippe Bulanon",
      "userId": "02016170802866976542"
     },
     "user_tz": -480
    },
    "id": "nCG_aRdlzAGi"
   },
   "outputs": [],
   "source": [
    "def visualize_dataset_samples(\n",
    "    dataset: Dataset,\n",
    "    num_images: int = 4,\n",
    "    show_labels: bool = True,\n",
    "    show_size: bool = False,\n",
    "    figsize: Optional[Tuple[int, int]] = None,\n",
    "    random_seed: Optional[int] = None,\n",
    "    class_names: Optional[list] = None\n",
    ") -> None:\n",
    "    \"\"\"\n",
    "    Visualize random samples from a dataset.\n",
    "\n",
    "    Args:\n",
    "        dataset: PyTorch dataset to visualize\n",
    "        num_images: Number of images to display (default: 4)\n",
    "        show_labels: Whether to show image labels (default: True)\n",
    "        show_size: Whether to show image dimensions (default: False)\n",
    "        figsize: Figure size (optional, auto-calculated if None)\n",
    "        random_seed: Random seed for reproducibility (optional)\n",
    "        class_names: List of class names for label mapping (optional). If not provided,\n",
    "                     and if the dataset has a `classes` attribute, that will be used.\n",
    "    \"\"\"\n",
    "    # Set random seed if provided\n",
    "    if random_seed is not None:\n",
    "        random.seed(random_seed)\n",
    "\n",
    "    # If class_names is not provided and the dataset has a 'classes' attribute, use it.\n",
    "    if class_names is None and hasattr(dataset, 'classes'):\n",
    "        class_names = dataset.classes\n",
    "\n",
    "    # Calculate figure size if not provided\n",
    "    if figsize is None:\n",
    "        cols = min(4, num_images)  # Max 4 images per row\n",
    "        rows = (num_images + cols - 1) // cols\n",
    "        figsize = (4 * cols, 4 * rows)\n",
    "\n",
    "    # Create figure and axes\n",
    "    fig, axes = plt.subplots(\n",
    "        (num_images + 3) // 4, min(4, num_images),\n",
    "        figsize=figsize\n",
    "    )\n",
    "    if num_images == 1:\n",
    "        axes = np.array([axes])\n",
    "    axes = axes.ravel()\n",
    "\n",
    "    # Get random indices\n",
    "    indices = random.sample(range(len(dataset)), num_images)\n",
    "\n",
    "    for idx, ax in zip(indices, axes):\n",
    "        # Get image and label from the dataset\n",
    "        image, label = dataset[idx]\n",
    "\n",
    "        # Convert tensor to numpy if needed\n",
    "        if isinstance(image, torch.Tensor):\n",
    "            image = image.numpy()\n",
    "\n",
    "        # If image is in channel-first format, transpose to channel-last\n",
    "        if image.ndim == 3 and image.shape[0] in [1, 3, 4]:\n",
    "            image = np.transpose(image, (1, 2, 0))\n",
    "\n",
    "        # If grayscale image, squeeze the channel dimension\n",
    "        if image.ndim == 3 and image.shape[-1] == 1:\n",
    "            image = image.squeeze()\n",
    "\n",
    "        # Normalize image if needed (assumes values > 1 indicate [0,255] scale)\n",
    "        if image.max() > 1:\n",
    "            image = image / 255.0\n",
    "\n",
    "        # Display the image\n",
    "        ax.imshow(image)\n",
    "        ax.axis('off')\n",
    "\n",
    "        # Build title text with label and/or size information\n",
    "        title_parts = []\n",
    "\n",
    "        if show_labels:\n",
    "            # Use provided class_names if available; otherwise, avoid numeric label\n",
    "            if class_names is not None and isinstance(label, int) and label < len(class_names):\n",
    "                label_text = class_names[label]\n",
    "            else:\n",
    "                # If label is not an integer or no mapping is provided, use a fallback string.\n",
    "                label_text = \"Unknown\"\n",
    "            title_parts.append(f'{label_text}')\n",
    "\n",
    "        if show_size:\n",
    "            size_text = f'{image.shape[0]}x{image.shape[1]}'\n",
    "            if image.ndim == 3:\n",
    "                size_text += f'x{image.shape[2]}'\n",
    "            title_parts.append(f'Size: {size_text}')\n",
    "\n",
    "        if title_parts:\n",
    "            ax.set_title('\\n'.join(title_parts))\n",
    "\n",
    "    # Remove any extra axes\n",
    "    for idx in range(num_images, len(axes)):\n",
    "        fig.delaxes(axes[idx])\n",
    "\n",
    "    plt.tight_layout()\n",
    "    plt.show()\n"
   ]
  },
  {
   "cell_type": "markdown",
   "metadata": {
    "id": "0OAcrot5l92o"
   },
   "source": [
    "## Visualize Directory Function"
   ]
  },
  {
   "cell_type": "code",
   "execution_count": 9,
   "metadata": {
    "executionInfo": {
     "elapsed": 4,
     "status": "ok",
     "timestamp": 1738488925528,
     "user": {
      "displayName": "Melchor Filippe Bulanon",
      "userId": "02016170802866976542"
     },
     "user_tz": -480
    },
    "id": "-NfWej-XzAJH"
   },
   "outputs": [],
   "source": [
    "def _build_tree(dir_path, parent_node=None):\n",
    "    # Create a node for the current directory\n",
    "    dir_name = os.path.basename(dir_path)\n",
    "\n",
    "    # Count the number of files in the directory\n",
    "    file_count = sum(1 for entry in os.scandir(dir_path) if entry.is_file())\n",
    "\n",
    "    # Append \"(n files)\" to the directory name if it contains files\n",
    "    if file_count > 0:\n",
    "        dir_name += f\" ({file_count} files)\"\n",
    "\n",
    "    current_node = Node(dir_name, parent=parent_node)\n",
    "\n",
    "    # Add subdirectories as child nodes\n",
    "    with os.scandir(dir_path) as entries:\n",
    "        for entry in entries:\n",
    "            if entry.is_dir():\n",
    "                _build_tree(entry.path, current_node)  # Recursively add subdirectories\n",
    "\n",
    "    return current_node\n",
    "\n",
    "def inspect_data(dir_path):\n",
    "    root_node = _build_tree(dir_path)\n",
    "    for pre, _, node in RenderTree(root_node):\n",
    "        print(f\"{pre}{node.name}\")"
   ]
  },
  {
   "cell_type": "code",
   "execution_count": null,
   "metadata": {
    "id": "mpQ0BdR1zALv"
   },
   "outputs": [],
   "source": []
  },
  {
   "cell_type": "code",
   "execution_count": null,
   "metadata": {
    "id": "yMm5nvAbzAN_"
   },
   "outputs": [],
   "source": []
  }
 ],
 "metadata": {
  "colab": {
   "authorship_tag": "ABX9TyPqERFwQyJ4h41bCBuAlB63",
   "provenance": []
  },
  "kernelspec": {
   "display_name": "Python 3 (ipykernel)",
   "language": "python",
   "name": "python3"
  },
  "language_info": {
   "codemirror_mode": {
    "name": "ipython",
    "version": 3
   },
   "file_extension": ".py",
   "mimetype": "text/x-python",
   "name": "python",
   "nbconvert_exporter": "python",
   "pygments_lexer": "ipython3",
   "version": "3.10.10"
  }
 },
 "nbformat": 4,
 "nbformat_minor": 4
}
