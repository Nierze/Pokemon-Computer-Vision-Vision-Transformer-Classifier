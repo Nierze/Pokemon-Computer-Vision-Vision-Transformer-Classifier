{
 "cells": [
  {
   "cell_type": "markdown",
   "metadata": {
    "id": "bZhhXItffsqS"
   },
   "source": [
    "# Computer Vision Training Utilities Module 1.0.1\n",
    "#### Made by: Melchor Filippe S. Bulanon\n",
    "#### Last Updated: 02/08/2025\n",
    "\n",
    "This module contains all the functions necessary to train computer vision models created in pytorch."
   ]
  },
  {
   "cell_type": "markdown",
   "metadata": {
    "id": "yeOUiWahiFFQ"
   },
   "source": [
    "## Import necessary libraries"
   ]
  },
  {
   "cell_type": "code",
   "execution_count": 1,
   "metadata": {
    "executionInfo": {
     "elapsed": 13510,
     "status": "ok",
     "timestamp": 1738464420613,
     "user": {
      "displayName": "Melchor Filippe Bulanon",
      "userId": "02016170802866976542"
     },
     "user_tz": -480
    },
    "id": "QhmKaXakiBY_"
   },
   "outputs": [],
   "source": [
    "import time\n",
    "from tqdm.auto import tqdm\n",
    "import torch\n",
    "from torch.utils.data import DataLoader\n",
    "from torch import nn, optim\n",
    "from typing import Dict, List, Tuple"
   ]
  },
  {
   "cell_type": "markdown",
   "metadata": {
    "id": "cTSx6puogby-"
   },
   "source": [
    "## Train Step Function"
   ]
  },
  {
   "cell_type": "code",
   "execution_count": null,
   "metadata": {
    "executionInfo": {
     "elapsed": 251,
     "status": "ok",
     "timestamp": 1738464429642,
     "user": {
      "displayName": "Melchor Filippe Bulanon",
      "userId": "02016170802866976542"
     },
     "user_tz": -480
    },
    "id": "tbpWnaGyd5Yu"
   },
   "outputs": [],
   "source": [
    "def train_step(\n",
    "    dataloader: DataLoader,\n",
    "    model: nn.Module,\n",
    "    loss_fn: nn.Module,\n",
    "    optimizer: optim.Optimizer,\n",
    "    device: torch.device\n",
    ") -> float:\n",
    "    \"\"\"\n",
    "    Perform one training epoch over the dataloader.\n",
    "\n",
    "    Args:\n",
    "        dataloader: DataLoader providing batches of data\n",
    "        model: PyTorch model to train\n",
    "        loss_fn: Loss function\n",
    "        optimizer: Optimizer for model parameters\n",
    "        device: Device to run training on (e.g., 'cuda' or 'cpu')\n",
    "\n",
    "    Returns:\n",
    "        Average loss over all batches in the epoch\n",
    "    \"\"\"\n",
    "    model.train()\n",
    "    model = model.to(device)\n",
    "    total_loss = 0.0\n",
    "    total_samples = 0\n",
    "\n",
    "    for batch in dataloader:\n",
    "        # Move data to device\n",
    "        data, targets = batch\n",
    "        data = data.to(device)\n",
    "        targets = targets.to(device)\n",
    "\n",
    "        # Forward pass\n",
    "        outputs = model(data)\n",
    "        loss = loss_fn(outputs, targets)\n",
    "\n",
    "        # Backward pass and optimize\n",
    "        optimizer.zero_grad()\n",
    "        loss.backward()\n",
    "        optimizer.step()\n",
    "\n",
    "        # Accumulate loss (weighted by batch size)\n",
    "        batch_size = data.size(0)\n",
    "        total_loss += loss.item() * batch_size\n",
    "        total_samples += batch_size\n",
    "\n",
    "    # Return average loss across all batches\n",
    "    return total_loss / total_samples"
   ]
  },
  {
   "cell_type": "markdown",
   "metadata": {
    "id": "yIS2Sro3jFzr"
   },
   "source": [
    "## Test Step Function"
   ]
  },
  {
   "cell_type": "code",
   "execution_count": 3,
   "metadata": {
    "executionInfo": {
     "elapsed": 466,
     "status": "ok",
     "timestamp": 1738464433501,
     "user": {
      "displayName": "Melchor Filippe Bulanon",
      "userId": "02016170802866976542"
     },
     "user_tz": -480
    },
    "id": "ay_GKSxffnAw"
   },
   "outputs": [],
   "source": [
    "def test_step(\n",
    "    dataloader: DataLoader,\n",
    "    model: nn.Module,\n",
    "    loss_fn: nn.Module,\n",
    "    device: torch.device\n",
    ") -> Tuple[float, float]:\n",
    "    \"\"\"\n",
    "    Perform one evaluation epoch over the dataloader.\n",
    "\n",
    "    Args:\n",
    "        dataloader: DataLoader providing batches of data\n",
    "        model: PyTorch model to evaluate\n",
    "        loss_fn: Loss function\n",
    "        device: Device to run evaluation on\n",
    "\n",
    "    Returns:\n",
    "        Tuple containing (average loss, accuracy percentage)\n",
    "    \"\"\"\n",
    "    model.eval()\n",
    "    total_loss = 0.0\n",
    "    total_correct = 0\n",
    "    total_samples = 0\n",
    "\n",
    "    with torch.inference_mode():\n",
    "        for batch in dataloader:\n",
    "            # Move data to device\n",
    "            data, targets = batch\n",
    "            data = data.to(device)\n",
    "            targets = targets.to(device)\n",
    "\n",
    "            # Forward pass\n",
    "            outputs = model(data)\n",
    "            loss = loss_fn(outputs, targets)\n",
    "\n",
    "            # Calculate predictions\n",
    "            _, predictions = torch.max(outputs, dim=1)\n",
    "\n",
    "            # Accumulate metrics\n",
    "            batch_size = data.size(0)\n",
    "            total_loss += loss.item() * batch_size\n",
    "            total_correct += (predictions == targets).sum().item()\n",
    "            total_samples += batch_size\n",
    "\n",
    "    avg_loss = total_loss / total_samples\n",
    "    accuracy = (total_correct / total_samples) * 100\n",
    "    return avg_loss, accuracy"
   ]
  },
  {
   "cell_type": "markdown",
   "metadata": {
    "id": "MeZXU9HwmmqL"
   },
   "source": [
    "## Train Function"
   ]
  },
  {
   "cell_type": "code",
   "execution_count": null,
   "metadata": {
    "id": "a5J6s9bDfoCu"
   },
   "outputs": [],
   "source": [
    "def train_model(\n",
    "    model: nn.Module,\n",
    "    train_loader: DataLoader,\n",
    "    test_loader: DataLoader,\n",
    "    loss_fn: nn.Module,\n",
    "    optimizer: optim.Optimizer,\n",
    "    device: torch.device,\n",
    "    epochs: int\n",
    ") -> Dict[str, List[float]]:\n",
    "    \"\"\"\n",
    "    Trains the model using predefined train_step/test_step functions.\n",
    "\n",
    "    Returns:\n",
    "        Metrics dictionary with:\n",
    "        - train_loss: Training loss per epoch\n",
    "        - test_loss: Test loss every 5 epochs\n",
    "        - test_acc: Test accuracy every 5 epochs\n",
    "        - epoch_times: Time per epoch (seconds)\n",
    "        - total_time: Total training time (seconds)\n",
    "    \"\"\"\n",
    "    metrics = {\n",
    "        'train_loss': [],\n",
    "        'test_loss': [],\n",
    "        'test_acc': [],\n",
    "        'epoch_times': [],\n",
    "        'total_time': 0.0,\n",
    "        'test_epochs': []\n",
    "    }\n",
    "\n",
    "    total_start = time.time()\n",
    "    epoch_bar = tqdm(range(epochs), desc=\"Training\", unit=\"epoch\")\n",
    "\n",
    "    for epoch in epoch_bar:\n",
    "        epoch_start = time.time()\n",
    "\n",
    "        # Training phase\n",
    "        train_loss = train_step(\n",
    "            dataloader=train_loader,\n",
    "            model=model,\n",
    "            loss_fn=loss_fn,\n",
    "            optimizer=optimizer,\n",
    "            device=device\n",
    "        )\n",
    "        metrics['train_loss'].append(train_loss)\n",
    "\n",
    "        # Calculate epoch time\n",
    "        epoch_time = time.time() - epoch_start\n",
    "        metrics['epoch_times'].append(epoch_time)\n",
    "\n",
    "        # Validation every 5 epochs\n",
    "        log_str = (f\"Epoch {epoch+1:03d}/{epochs} | \"\n",
    "                   f\"Train Loss: {train_loss:.4f} | \"\n",
    "                   f\"Time: {epoch_time:.2f}s\")\n",
    "\n",
    "        if (epoch + 1) % 5 == 0 or (epoch + 1) == epochs:\n",
    "            test_loss, test_acc = test_step(\n",
    "                dataloader=test_loader,\n",
    "                model=model,\n",
    "                loss_fn=loss_fn,\n",
    "                device=device\n",
    "            )\n",
    "            metrics['test_loss'].append(test_loss)\n",
    "            metrics['test_acc'].append(test_acc)\n",
    "            metrics['test_epochs'].append(epoch + 1)\n",
    "\n",
    "            log_str += (f\" | Test Loss: {test_loss:.4f} \"\n",
    "                        f\"| Test Acc: {test_acc:.2f}%\")\n",
    "\n",
    "        # Update progress bar and print\n",
    "        epoch_bar.set_postfix_str(log_str.split(\"| \")[-1])\n",
    "        tqdm.write(log_str)\n",
    "\n",
    "    # Final metrics\n",
    "    metrics['total_time'] = time.time() - total_start\n",
    "    tqdm.write(f\"\\n✨ Training complete! Total time: {metrics['total_time']:.2f}s\")\n",
    "\n",
    "    return metrics"
   ]
  },
  {
   "cell_type": "code",
   "execution_count": null,
   "metadata": {
    "id": "I9NcvnvkfoFH"
   },
   "outputs": [],
   "source": []
  },
  {
   "cell_type": "code",
   "execution_count": null,
   "metadata": {
    "id": "c6rqt_tDfoHe"
   },
   "outputs": [],
   "source": []
  },
  {
   "cell_type": "code",
   "execution_count": null,
   "metadata": {
    "id": "nvX7bVI-foKF"
   },
   "outputs": [],
   "source": []
  },
  {
   "cell_type": "code",
   "execution_count": null,
   "metadata": {
    "id": "g5v0sgAtfoMZ"
   },
   "outputs": [],
   "source": []
  },
  {
   "cell_type": "code",
   "execution_count": null,
   "metadata": {
    "id": "-n-y12IVfoOt"
   },
   "outputs": [],
   "source": []
  },
  {
   "cell_type": "code",
   "execution_count": null,
   "metadata": {
    "id": "f1-CC685foUU"
   },
   "outputs": [],
   "source": []
  },
  {
   "cell_type": "code",
   "execution_count": null,
   "metadata": {
    "id": "Qt77eS_4foWl"
   },
   "outputs": [],
   "source": []
  }
 ],
 "metadata": {
  "colab": {
   "authorship_tag": "ABX9TyNYpJjVc9vK7wxu99126Ehu",
   "collapsed_sections": [
    "cTSx6puogby-"
   ],
   "provenance": []
  },
  "kernelspec": {
   "display_name": "Python 3 (ipykernel)",
   "language": "python",
   "name": "python3"
  },
  "language_info": {
   "codemirror_mode": {
    "name": "ipython",
    "version": 3
   },
   "file_extension": ".py",
   "mimetype": "text/x-python",
   "name": "python",
   "nbconvert_exporter": "python",
   "pygments_lexer": "ipython3",
   "version": "3.10.10"
  }
 },
 "nbformat": 4,
 "nbformat_minor": 4
}
